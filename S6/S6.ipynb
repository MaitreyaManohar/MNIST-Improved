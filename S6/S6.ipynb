{
 "cells": [
  {
   "cell_type": "code",
   "execution_count": 43,
   "metadata": {},
   "outputs": [],
   "source": [
    "import torch\n",
    "from torchvision import datasets\n",
    "from torchvision import transforms\n",
    "import torch.nn.functional as F\n",
    "from torch import nn\n",
    "from torch.cuda import is_available\n",
    "from torchsummary import summary\n",
    "import matplotlib.pyplot as plt\n",
    "import numpy as np\n",
    "from utils import viewPlots"
   ]
  },
  {
   "cell_type": "code",
   "execution_count": 44,
   "metadata": {},
   "outputs": [
    {
     "data": {
      "text/plain": [
       "device(type='cuda')"
      ]
     },
     "execution_count": 44,
     "metadata": {},
     "output_type": "execute_result"
    }
   ],
   "source": [
    "device = torch.device(\"cuda\" if is_available() else \"cpu\")\n",
    "device"
   ]
  },
  {
   "cell_type": "code",
   "execution_count": 45,
   "metadata": {},
   "outputs": [],
   "source": [
    "train_transforms = transforms.Compose(\n",
    "    [transforms.ToTensor(), transforms.Normalize((0.1307,), (0.3081,))]\n",
    ")\n",
    "\n",
    "test_transforms = transforms.Compose(\n",
    "    [transforms.ToTensor(), transforms.Normalize((0.1325,), (0.3105,))]\n",
    ")"
   ]
  },
  {
   "cell_type": "code",
   "execution_count": 46,
   "metadata": {},
   "outputs": [],
   "source": [
    "training_data = datasets.MNIST('./data',train=True,download=True,transform=train_transforms)\n",
    "testing_data = datasets.MNIST('./data',train=False,download=True,transform=test_transforms)"
   ]
  },
  {
   "cell_type": "code",
   "execution_count": 47,
   "metadata": {},
   "outputs": [],
   "source": [
    "kwargs = {'batch_size': 64, 'shuffle': True, 'num_workers': 2, 'pin_memory': True}\n",
    "train_loader = torch.utils.data.DataLoader(training_data, **kwargs)\n",
    "kwargs = {'batch_size': 128, 'shuffle': True, 'num_workers': 2, 'pin_memory': True}\n",
    "test_loader = torch.utils.data.DataLoader(testing_data, **kwargs)\n",
    "val_loader = torch.utils.data.DataLoader(testing_data, **kwargs)\n"
   ]
  },
  {
   "cell_type": "code",
   "execution_count": 48,
   "metadata": {},
   "outputs": [
    {
     "name": "stdout",
     "output_type": "stream",
     "text": [
      "batch_data[i]:  torch.Size([1, 28, 28])\n",
      "batch_data[i]:  torch.Size([1, 28, 28])\n",
      "batch_data[i]:  torch.Size([1, 28, 28])\n",
      "batch_data[i]:  torch.Size([1, 28, 28])\n",
      "batch_data[i]:  torch.Size([1, 28, 28])\n",
      "batch_data[i]:  torch.Size([1, 28, 28])\n",
      "batch_data[i]:  torch.Size([1, 28, 28])\n",
      "batch_data[i]:  torch.Size([1, 28, 28])\n",
      "batch_data[i]:  torch.Size([1, 28, 28])\n",
      "batch_data[i]:  torch.Size([1, 28, 28])\n"
     ]
    },
    {
     "data": {
      "image/png": "[encoded data removed]",
      "text/plain": [
       "<Figure size 640x480 with 10 Axes>"
      ]
     },
     "metadata": {},
     "output_type": "display_data"
    }
   ],
   "source": [
    "batch_data, batch_label = next(iter(train_loader))\n",
    "viewPlots(batch_data,batch_label,10)"
   ]
  },
  {
   "cell_type": "code",
   "execution_count": 49,
   "metadata": {},
   "outputs": [],
   "source": [
    "\n",
    "class MNet(nn.Module):\n",
    "    def __init__(self, *args, **kwargs) -> None:\n",
    "        super().__init__(*args, **kwargs)\n",
    "        self.conv1 = nn.Conv2d(in_channels=1, out_channels=128,\n",
    "        kernel_size=3)\n",
    "        self.bn1 = nn.BatchNorm2d(num_features=128)\n",
    "        self.tns1 = nn.Conv2d(in_channels=128, out_channels=4,\n",
    "        kernel_size=1, padding=1)\n",
    "        self.conv2 = nn.Conv2d(in_channels=4, out_channels=16,\n",
    "        kernel_size=3, padding=1)\n",
    "        self.bn2 = nn.BatchNorm2d(num_features=16)\n",
    "        self.pool1 = nn.MaxPool2d(2, 2)\n",
    "        self.conv3 = nn.Conv2d(in_channels=16, out_channels=16,\n",
    "        kernel_size=3, padding=1)\n",
    "        self.bn3 = nn.BatchNorm2d(num_features=16)\n",
    "        self.conv4 = nn.Conv2d(in_channels=16, out_channels=32,\n",
    "        kernel_size=3, padding=1)\n",
    "        self.bn4 = nn.BatchNorm2d(num_features=32)\n",
    "       \n",
    "        self.pool2 = nn.MaxPool2d(2, 2)\n",
    "        self.tns2 = nn.Conv2d(in_channels=32, out_channels=16,\n",
    "        kernel_size=1)\n",
    "        \n",
    "        self.conv5 = nn.Conv2d(in_channels=16, out_channels=20,\n",
    "        kernel_size=3, padding=1)\n",
    "        self.bn5 = nn.BatchNorm2d(num_features=20)\n",
    "        self.conv6 = nn.Conv2d(in_channels=20, out_channels=32,\n",
    "        kernel_size=3, padding=1)\n",
    "        self.bn6 = nn.BatchNorm2d(num_features=32)\n",
    "        self.conv7 = nn.Conv2d(in_channels=32, out_channels=10,\n",
    "        kernel_size=1)\n",
    "        self.gpool = nn.AvgPool2d(kernel_size=7)\n",
    "        self.drop = nn.Dropout2d(0.2)\n",
    "\n",
    "\n",
    "    \n",
    "    def forward(self,x):\n",
    "        x = self.tns1(self.drop(self.bn1(F.relu(self.conv1(x))))) \n",
    "        x = self.drop(self.bn2(F.relu(self.conv2(x))))\n",
    "        x = self.pool1(x)\n",
    "        x = self.drop(self.bn3(F.relu(self.conv3(x))))\n",
    "        x = self.bn4(F.relu(self.conv4(x)))\n",
    "        x = self.tns2(self.pool2(x))\n",
    "        x = self.bn5(F.relu(self.conv5(x)))\n",
    "        x = self.bn6(F.relu(self.conv6(x)))\n",
    "        x = self.conv7(x)\n",
    "        x = self.gpool(x)\n",
    "        x = x.view(-1, 10)\n",
    "        return F.log_softmax(x)\n"
   ]
  },
  {
   "cell_type": "code",
   "execution_count": 50,
   "metadata": {},
   "outputs": [
    {
     "name": "stdout",
     "output_type": "stream",
     "text": [
      "----------------------------------------------------------------\n",
      "        Layer (type)               Output Shape         Param #\n",
      "================================================================\n",
      "            Conv2d-1          [-1, 128, 26, 26]           1,280\n",
      "       BatchNorm2d-2          [-1, 128, 26, 26]             256\n",
      "         Dropout2d-3          [-1, 128, 26, 26]               0\n",
      "            Conv2d-4            [-1, 4, 28, 28]             516\n",
      "            Conv2d-5           [-1, 16, 28, 28]             592\n",
      "       BatchNorm2d-6           [-1, 16, 28, 28]              32\n",
      "         Dropout2d-7           [-1, 16, 28, 28]               0\n",
      "         MaxPool2d-8           [-1, 16, 14, 14]               0\n",
      "            Conv2d-9           [-1, 16, 14, 14]           2,320\n",
      "      BatchNorm2d-10           [-1, 16, 14, 14]              32\n",
      "        Dropout2d-11           [-1, 16, 14, 14]               0\n",
      "           Conv2d-12           [-1, 32, 14, 14]           4,640\n",
      "      BatchNorm2d-13           [-1, 32, 14, 14]              64\n",
      "        MaxPool2d-14             [-1, 32, 7, 7]               0\n",
      "           Conv2d-15             [-1, 16, 7, 7]             528\n",
      "           Conv2d-16             [-1, 20, 7, 7]           2,900\n",
      "      BatchNorm2d-17             [-1, 20, 7, 7]              40\n",
      "           Conv2d-18             [-1, 32, 7, 7]           5,792\n",
      "      BatchNorm2d-19             [-1, 32, 7, 7]              64\n",
      "           Conv2d-20             [-1, 10, 7, 7]             330\n",
      "        AvgPool2d-21             [-1, 10, 1, 1]               0\n",
      "================================================================\n",
      "Total params: 19,386\n",
      "Trainable params: 19,386\n",
      "Non-trainable params: 0\n",
      "----------------------------------------------------------------\n",
      "Input size (MB): 0.00\n",
      "Forward/backward pass size (MB): 2.54\n",
      "Params size (MB): 0.07\n",
      "Estimated Total Size (MB): 2.62\n",
      "----------------------------------------------------------------\n"
     ]
    },
    {
     "name": "stderr",
     "output_type": "stream",
     "text": [
      "C:\\Users\\maitr\\AppData\\Local\\Temp\\ipykernel_16800\\1454515601.py:49: UserWarning: Implicit dimension choice for log_softmax has been deprecated. Change the call to include dim=X as an argument.\n",
      "  return F.log_softmax(x)\n"
     ]
    }
   ],
   "source": [
    "model = MNet().to(device)\n",
    "summary(model,input_size=(1,28,28))"
   ]
  },
  {
   "cell_type": "code",
   "execution_count": 51,
   "metadata": {},
   "outputs": [],
   "source": [
    "from tqdm import tqdm\n",
    "def train(model, device, train_loader, optimizer, epoch):\n",
    "    model.train()\n",
    "    pbar = tqdm(train_loader)\n",
    "    for batch_idx, (data, target) in enumerate(pbar):\n",
    "        data, target = data.to(device), target.to(device)\n",
    "        optimizer.zero_grad()\n",
    "        output = model(data)\n",
    "        loss = F.nll_loss(output, target)\n",
    "        loss.backward()\n",
    "        optimizer.step()\n",
    "        pbar.set_description(desc= f'epoch: {epoch} loss={loss.item()} batch_id={batch_idx}')\n",
    "\n",
    "\n",
    "def test(model, device, test_loader):\n",
    "    model.eval()\n",
    "    test_loss = 0\n",
    "    correct = 0\n",
    "    with torch.no_grad():\n",
    "        for data, target in test_loader:\n",
    "            data, target = data.to(device), target.to(device)\n",
    "            output = model(data)\n",
    "            test_loss += F.nll_loss(output, target,\n",
    "                reduction='sum').item()  # sum up batch loss\n",
    "            pred = output.argmax(dim=1, keepdim=True)\n",
    "            correct +=pred.eq(target.view_as(pred)).sum().item()\n",
    "            test_loss /= len(test_loader.dataset)\n",
    "        print('\\nValidation set: Average loss: {:.4f}, Accuracy: {}/{} ({:.1f}%)\\n'.format(test_loss, correct,len(test_loader.dataset), 100. * correct /len(test_loader.dataset)))"
   ]
  },
  {
   "cell_type": "code",
   "execution_count": 52,
   "metadata": {},
   "outputs": [
    {
     "name": "stderr",
     "output_type": "stream",
     "text": [
      "  0%|          | 0/938 [00:00<?, ?it/s]C:\\Users\\maitr\\AppData\\Local\\Temp\\ipykernel_16800\\1454515601.py:49: UserWarning: Implicit dimension choice for log_softmax has been deprecated. Change the call to include dim=X as an argument.\n",
      "  return F.log_softmax(x)\n",
      "epoch: 1 loss=0.090191550552845 batch_id=937: 100%|██████████| 938/938 [00:10<00:00, 87.31it/s]    \n"
     ]
    },
    {
     "name": "stdout",
     "output_type": "stream",
     "text": [
      "\n",
      "Validation set: Average loss: 0.0001, Accuracy: 9812/10000 (98.1%)\n",
      "\n"
     ]
    },
    {
     "name": "stderr",
     "output_type": "stream",
     "text": [
      "epoch: 2 loss=0.1046583354473114 batch_id=937: 100%|██████████| 938/938 [00:10<00:00, 88.98it/s]   \n"
     ]
    },
    {
     "name": "stdout",
     "output_type": "stream",
     "text": [
      "\n",
      "Validation set: Average loss: 0.0001, Accuracy: 9875/10000 (98.8%)\n",
      "\n"
     ]
    },
    {
     "name": "stderr",
     "output_type": "stream",
     "text": [
      "epoch: 3 loss=0.01603892259299755 batch_id=937: 100%|██████████| 938/938 [00:10<00:00, 88.90it/s]   \n"
     ]
    },
    {
     "name": "stdout",
     "output_type": "stream",
     "text": [
      "\n",
      "Validation set: Average loss: 0.0003, Accuracy: 9883/10000 (98.8%)\n",
      "\n"
     ]
    },
    {
     "name": "stderr",
     "output_type": "stream",
     "text": [
      "epoch: 4 loss=0.015566268935799599 batch_id=937: 100%|██████████| 938/938 [00:10<00:00, 88.32it/s]  \n"
     ]
    },
    {
     "name": "stdout",
     "output_type": "stream",
     "text": [
      "\n",
      "Validation set: Average loss: 0.0000, Accuracy: 9893/10000 (98.9%)\n",
      "\n"
     ]
    },
    {
     "name": "stderr",
     "output_type": "stream",
     "text": [
      "epoch: 5 loss=0.006707039661705494 batch_id=937: 100%|██████████| 938/938 [00:10<00:00, 87.50it/s]  \n"
     ]
    },
    {
     "name": "stdout",
     "output_type": "stream",
     "text": [
      "\n",
      "Validation set: Average loss: 0.0000, Accuracy: 9926/10000 (99.3%)\n",
      "\n"
     ]
    },
    {
     "name": "stderr",
     "output_type": "stream",
     "text": [
      "epoch: 6 loss=0.08851692825555801 batch_id=937: 100%|██████████| 938/938 [00:11<00:00, 82.30it/s]   \n"
     ]
    },
    {
     "name": "stdout",
     "output_type": "stream",
     "text": [
      "\n",
      "Validation set: Average loss: 0.0000, Accuracy: 9934/10000 (99.3%)\n",
      "\n"
     ]
    },
    {
     "name": "stderr",
     "output_type": "stream",
     "text": [
      "epoch: 7 loss=0.1549907773733139 batch_id=937: 100%|██████████| 938/938 [00:10<00:00, 86.60it/s]    \n"
     ]
    },
    {
     "name": "stdout",
     "output_type": "stream",
     "text": [
      "\n",
      "Validation set: Average loss: 0.0003, Accuracy: 9913/10000 (99.1%)\n",
      "\n"
     ]
    },
    {
     "name": "stderr",
     "output_type": "stream",
     "text": [
      "epoch: 8 loss=0.011836744844913483 batch_id=937: 100%|██████████| 938/938 [00:10<00:00, 86.18it/s]  \n"
     ]
    },
    {
     "name": "stdout",
     "output_type": "stream",
     "text": [
      "\n",
      "Validation set: Average loss: 0.0000, Accuracy: 9931/10000 (99.3%)\n",
      "\n"
     ]
    },
    {
     "name": "stderr",
     "output_type": "stream",
     "text": [
      "epoch: 9 loss=0.01092913094907999 batch_id=937: 100%|██████████| 938/938 [00:10<00:00, 86.25it/s]   \n"
     ]
    },
    {
     "name": "stdout",
     "output_type": "stream",
     "text": [
      "\n",
      "Validation set: Average loss: 0.0001, Accuracy: 9922/10000 (99.2%)\n",
      "\n"
     ]
    },
    {
     "name": "stderr",
     "output_type": "stream",
     "text": [
      "epoch: 10 loss=0.0012779455864802003 batch_id=937: 100%|██████████| 938/938 [00:11<00:00, 84.59it/s] \n"
     ]
    },
    {
     "name": "stdout",
     "output_type": "stream",
     "text": [
      "\n",
      "Validation set: Average loss: 0.0000, Accuracy: 9920/10000 (99.2%)\n",
      "\n"
     ]
    },
    {
     "name": "stderr",
     "output_type": "stream",
     "text": [
      "epoch: 11 loss=0.014655736275017262 batch_id=937: 100%|██████████| 938/938 [00:10<00:00, 85.61it/s]  \n"
     ]
    },
    {
     "name": "stdout",
     "output_type": "stream",
     "text": [
      "\n",
      "Validation set: Average loss: 0.0000, Accuracy: 9941/10000 (99.4%)\n",
      "\n"
     ]
    },
    {
     "name": "stderr",
     "output_type": "stream",
     "text": [
      "epoch: 12 loss=0.0026219752617180347 batch_id=937: 100%|██████████| 938/938 [00:10<00:00, 85.66it/s] \n"
     ]
    },
    {
     "name": "stdout",
     "output_type": "stream",
     "text": [
      "\n",
      "Validation set: Average loss: 0.0000, Accuracy: 9931/10000 (99.3%)\n",
      "\n"
     ]
    },
    {
     "name": "stderr",
     "output_type": "stream",
     "text": [
      "epoch: 13 loss=0.017978549003601074 batch_id=937: 100%|██████████| 938/938 [00:11<00:00, 84.57it/s]  \n"
     ]
    },
    {
     "name": "stdout",
     "output_type": "stream",
     "text": [
      "\n",
      "Validation set: Average loss: 0.0000, Accuracy: 9939/10000 (99.4%)\n",
      "\n"
     ]
    },
    {
     "name": "stderr",
     "output_type": "stream",
     "text": [
      "epoch: 14 loss=0.010321687906980515 batch_id=937: 100%|██████████| 938/938 [00:11<00:00, 83.80it/s]  \n"
     ]
    },
    {
     "name": "stdout",
     "output_type": "stream",
     "text": [
      "\n",
      "Validation set: Average loss: 0.0000, Accuracy: 9941/10000 (99.4%)\n",
      "\n"
     ]
    },
    {
     "name": "stderr",
     "output_type": "stream",
     "text": [
      "epoch: 15 loss=0.025719312950968742 batch_id=937: 100%|██████████| 938/938 [00:11<00:00, 83.14it/s]  \n"
     ]
    },
    {
     "name": "stdout",
     "output_type": "stream",
     "text": [
      "\n",
      "Validation set: Average loss: 0.0000, Accuracy: 9940/10000 (99.4%)\n",
      "\n"
     ]
    },
    {
     "name": "stderr",
     "output_type": "stream",
     "text": [
      "epoch: 16 loss=0.004029408562928438 batch_id=937: 100%|██████████| 938/938 [00:11<00:00, 83.98it/s]   \n"
     ]
    },
    {
     "name": "stdout",
     "output_type": "stream",
     "text": [
      "\n",
      "Validation set: Average loss: 0.0000, Accuracy: 9946/10000 (99.5%)\n",
      "\n"
     ]
    },
    {
     "name": "stderr",
     "output_type": "stream",
     "text": [
      "epoch: 17 loss=0.02120126411318779 batch_id=937: 100%|██████████| 938/938 [00:11<00:00, 84.07it/s]   \n"
     ]
    },
    {
     "name": "stdout",
     "output_type": "stream",
     "text": [
      "\n",
      "Validation set: Average loss: 0.0000, Accuracy: 9930/10000 (99.3%)\n",
      "\n"
     ]
    },
    {
     "name": "stderr",
     "output_type": "stream",
     "text": [
      "epoch: 18 loss=0.003304046578705311 batch_id=937: 100%|██████████| 938/938 [00:11<00:00, 82.73it/s]  \n"
     ]
    },
    {
     "name": "stdout",
     "output_type": "stream",
     "text": [
      "\n",
      "Validation set: Average loss: 0.0000, Accuracy: 9941/10000 (99.4%)\n",
      "\n"
     ]
    },
    {
     "name": "stderr",
     "output_type": "stream",
     "text": [
      "epoch: 19 loss=0.01329675130546093 batch_id=937: 100%|██████████| 938/938 [00:11<00:00, 83.23it/s]   \n"
     ]
    },
    {
     "name": "stdout",
     "output_type": "stream",
     "text": [
      "\n",
      "Validation set: Average loss: 0.0000, Accuracy: 9946/10000 (99.5%)\n",
      "\n"
     ]
    },
    {
     "name": "stderr",
     "output_type": "stream",
     "text": [
      "epoch: 20 loss=0.01769583486020565 batch_id=937: 100%|██████████| 938/938 [00:10<00:00, 85.63it/s]   \n"
     ]
    },
    {
     "name": "stdout",
     "output_type": "stream",
     "text": [
      "\n",
      "Validation set: Average loss: 0.0000, Accuracy: 9939/10000 (99.4%)\n",
      "\n"
     ]
    }
   ],
   "source": [
    "model = MNet().to(device)\n",
    "optimizer = torch.optim.SGD(model.parameters(), lr=0.015,momentum=0.9)\n",
    "for epoch in range(1, 21):\n",
    "    train(model, device, train_loader, optimizer, epoch)\n",
    "    test(model, device, val_loader)"
   ]
  },
  {
   "attachments": {},
   "cell_type": "markdown",
   "metadata": {},
   "source": []
  }
 ],
 "metadata": {
  "kernelspec": {
   "display_name": "era",
   "language": "python",
   "name": "python3"
  },
  "language_info": {
   "codemirror_mode": {
    "name": "ipython",
    "version": 3
   },
   "file_extension": ".py",
   "mimetype": "text/x-python",
   "name": "python",
   "nbconvert_exporter": "python",
   "pygments_lexer": "ipython3",
   "version": "3.11.3"
  },
  "orig_nbformat": 4
 },
 "nbformat": 4,
 "nbformat_minor": 2
}
