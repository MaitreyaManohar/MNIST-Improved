{
 "cells": [
  {
   "cell_type": "code",
   "execution_count": 1,
   "metadata": {},
   "outputs": [],
   "source": [
    "import torch\n",
    "from torchvision import datasets\n",
    "from torchvision import transforms\n",
    "import torch.nn.functional as F\n",
    "from torch import nn\n",
    "from torch.cuda import is_available\n",
    "from torchsummary import summary\n",
    "import matplotlib.pyplot as plt\n",
    "import numpy as np\n",
    "from utils import viewPlots"
   ]
  },
  {
   "cell_type": "code",
   "execution_count": 2,
   "metadata": {},
   "outputs": [
    {
     "data": {
      "text/plain": [
       "device(type='cuda')"
      ]
     },
     "execution_count": 2,
     "metadata": {},
     "output_type": "execute_result"
    }
   ],
   "source": [
    "device = torch.device(\"cuda\" if is_available() else \"cpu\")\n",
    "device"
   ]
  },
  {
   "cell_type": "code",
   "execution_count": 3,
   "metadata": {},
   "outputs": [],
   "source": [
    "train_transforms = transforms.Compose(\n",
    "    [transforms.ToTensor(), transforms.Normalize((0.1307,), (0.3081,))]\n",
    ")\n",
    "\n",
    "test_transforms = transforms.Compose(\n",
    "    [transforms.ToTensor(), transforms.Normalize((0.1325,), (0.3105,))]\n",
    ")"
   ]
  },
  {
   "cell_type": "code",
   "execution_count": 4,
   "metadata": {},
   "outputs": [],
   "source": [
    "training_data = datasets.MNIST('./data',train=True,download=True,transform=train_transforms)\n",
    "testing_data = datasets.MNIST('./data',train=False,download=True,transform=test_transforms)\n",
    "training_data,validation_data = torch.utils.data.random_split(training_data,[50000,10000])"
   ]
  },
  {
   "cell_type": "code",
   "execution_count": 5,
   "metadata": {},
   "outputs": [],
   "source": [
    "kwargs = {'batch_size': 64, 'shuffle': True, 'num_workers': 2, 'pin_memory': True}\n",
    "train_loader = torch.utils.data.DataLoader(training_data, **kwargs)\n",
    "kwargs = {'batch_size': 128, 'shuffle': True, 'num_workers': 2, 'pin_memory': True}\n",
    "test_loader = torch.utils.data.DataLoader(testing_data, **kwargs)\n",
    "val_loader = torch.utils.data.DataLoader(validation_data, **kwargs)\n"
   ]
  },
  {
   "cell_type": "code",
   "execution_count": 6,
   "metadata": {},
   "outputs": [
    {
     "name": "stdout",
     "output_type": "stream",
     "text": [
      "batch_data[i]:  torch.Size([1, 28, 28])\n",
      "batch_data[i]:  torch.Size([1, 28, 28])\n",
      "batch_data[i]:  torch.Size([1, 28, 28])\n",
      "batch_data[i]:  torch.Size([1, 28, 28])\n",
      "batch_data[i]:  torch.Size([1, 28, 28])\n",
      "batch_data[i]:  torch.Size([1, 28, 28])\n",
      "batch_data[i]:  torch.Size([1, 28, 28])\n",
      "batch_data[i]:  torch.Size([1, 28, 28])\n",
      "batch_data[i]:  torch.Size([1, 28, 28])\n",
      "batch_data[i]:  torch.Size([1, 28, 28])\n"
     ]
    },
    {
     "data": {
      "image/png": "[encoded data removed]",
      "text/plain": [
       "<Figure size 640x480 with 10 Axes>"
      ]
     },
     "metadata": {},
     "output_type": "display_data"
    }
   ],
   "source": [
    "batch_data, batch_label = next(iter(train_loader))\n",
    "viewPlots(batch_data,batch_label,10)"
   ]
  },
  {
   "cell_type": "code",
   "execution_count": 7,
   "metadata": {},
   "outputs": [],
   "source": [
    "\n",
    "class MNet(nn.Module):\n",
    "    def __init__(self, *args, **kwargs) -> None:\n",
    "        super().__init__(*args, **kwargs)\n",
    "        self.conv1 = nn.Conv2d(in_channels=1, out_channels=128,\n",
    "        kernel_size=3, padding=1)\n",
    "        self.bn1 = nn.BatchNorm2d(num_features=128)\n",
    "        self.tns1 = nn.Conv2d(in_channels=128, out_channels=4,\n",
    "        kernel_size=1, padding=1)\n",
    "        self.conv2 = nn.Conv2d(in_channels=4, out_channels=16,\n",
    "        kernel_size=3, padding=1)\n",
    "        self.bn2 = nn.BatchNorm2d(num_features=16)\n",
    "        self.pool1 = nn.MaxPool2d(2, 2)\n",
    "        self.conv3 = nn.Conv2d(in_channels=16, out_channels=16,\n",
    "        kernel_size=3, padding=1)\n",
    "        self.bn3 = nn.BatchNorm2d(num_features=16)\n",
    "        self.conv4 = nn.Conv2d(in_channels=16, out_channels=32,\n",
    "        kernel_size=3, padding=1)\n",
    "        self.bn4 = nn.BatchNorm2d(num_features=32)\n",
    "       \n",
    "        self.pool2 = nn.MaxPool2d(2, 2)\n",
    "        self.tns2 = nn.Conv2d(in_channels=32, out_channels=16,\n",
    "        kernel_size=1, padding=1)\n",
    "        \n",
    "        self.conv5 = nn.Conv2d(in_channels=16, out_channels=16,\n",
    "        kernel_size=3, padding=1)\n",
    "        self.bn5 = nn.BatchNorm2d(num_features=16)\n",
    "        self.conv6 = nn.Conv2d(in_channels=16, out_channels=32,\n",
    "        kernel_size=3, padding=1)\n",
    "        self.bn6 = nn.BatchNorm2d(num_features=32)\n",
    "        self.conv7 = nn.Conv2d(in_channels=32, out_channels=10,\n",
    "        kernel_size=1, padding=1)\n",
    "        self.gpool = nn.AvgPool2d(kernel_size=7)\n",
    "        self.drop = nn.Dropout2d(0.15)\n",
    "\n",
    "\n",
    "    \n",
    "    def forward(self,x):\n",
    "        x = self.tns1(self.drop(self.bn1(F.relu(self.conv1(x))))) #28>26\n",
    "        x = self.drop(self.bn2(F.relu(self.conv2(x))))\n",
    "        x = self.pool1(x)\n",
    "        x = self.drop(self.bn3(F.relu(self.conv3(x))))\n",
    "        x = self.bn4(F.relu(self.conv4(x)))\n",
    "        x = self.tns2(self.pool2(x))\n",
    "        x = self.bn5(F.relu(self.conv5(x)))\n",
    "        x = self.bn6(F.relu(self.conv6(x)))\n",
    "        x = self.conv7(x)\n",
    "        x = self.gpool(x)\n",
    "        x = x.view(-1, 10)\n",
    "        return F.log_softmax(x)\n"
   ]
  },
  {
   "cell_type": "code",
   "execution_count": 8,
   "metadata": {},
   "outputs": [
    {
     "name": "stdout",
     "output_type": "stream",
     "text": [
      "----------------------------------------------------------------\n",
      "        Layer (type)               Output Shape         Param #\n",
      "================================================================\n",
      "            Conv2d-1          [-1, 128, 28, 28]           1,280\n",
      "       BatchNorm2d-2          [-1, 128, 28, 28]             256\n",
      "         Dropout2d-3          [-1, 128, 28, 28]               0\n",
      "            Conv2d-4            [-1, 4, 30, 30]             516\n",
      "            Conv2d-5           [-1, 16, 30, 30]             592\n",
      "       BatchNorm2d-6           [-1, 16, 30, 30]              32\n",
      "         Dropout2d-7           [-1, 16, 30, 30]               0\n",
      "         MaxPool2d-8           [-1, 16, 15, 15]               0\n",
      "            Conv2d-9           [-1, 16, 15, 15]           2,320\n",
      "      BatchNorm2d-10           [-1, 16, 15, 15]              32\n",
      "        Dropout2d-11           [-1, 16, 15, 15]               0\n",
      "           Conv2d-12           [-1, 32, 15, 15]           4,640\n",
      "      BatchNorm2d-13           [-1, 32, 15, 15]              64\n",
      "        MaxPool2d-14             [-1, 32, 7, 7]               0\n",
      "           Conv2d-15             [-1, 16, 9, 9]             528\n",
      "           Conv2d-16             [-1, 16, 9, 9]           2,320\n",
      "      BatchNorm2d-17             [-1, 16, 9, 9]              32\n",
      "           Conv2d-18             [-1, 32, 9, 9]           4,640\n",
      "      BatchNorm2d-19             [-1, 32, 9, 9]              64\n",
      "           Conv2d-20           [-1, 10, 11, 11]             330\n",
      "        AvgPool2d-21             [-1, 10, 1, 1]               0\n",
      "================================================================\n",
      "Total params: 17,646\n",
      "Trainable params: 17,646\n",
      "Non-trainable params: 0\n",
      "----------------------------------------------------------------\n",
      "Input size (MB): 0.00\n",
      "Forward/backward pass size (MB): 2.96\n",
      "Params size (MB): 0.07\n",
      "Estimated Total Size (MB): 3.03\n",
      "----------------------------------------------------------------\n"
     ]
    },
    {
     "name": "stderr",
     "output_type": "stream",
     "text": [
      "C:\\Users\\maitr\\AppData\\Local\\Temp\\ipykernel_9832\\1026459373.py:49: UserWarning: Implicit dimension choice for log_softmax has been deprecated. Change the call to include dim=X as an argument.\n",
      "  return F.log_softmax(x)\n"
     ]
    }
   ],
   "source": [
    "model = MNet().to(device)\n",
    "summary(model,input_size=(1,28,28))"
   ]
  },
  {
   "cell_type": "code",
   "execution_count": 9,
   "metadata": {},
   "outputs": [],
   "source": [
    "from tqdm import tqdm\n",
    "def train(model, device, train_loader, optimizer, epoch):\n",
    "    model.train()\n",
    "    pbar = tqdm(train_loader)\n",
    "    for batch_idx, (data, target) in enumerate(pbar):\n",
    "        data, target = data.to(device), target.to(device)\n",
    "        optimizer.zero_grad()\n",
    "        output = model(data)\n",
    "        loss = F.nll_loss(output, target)\n",
    "        loss.backward()\n",
    "        optimizer.step()\n",
    "        pbar.set_description(desc= f'epoch: {epoch} loss={loss.item()} batch_id={batch_idx}')\n",
    "\n",
    "\n",
    "def test(model, device, test_loader):\n",
    "    model.eval()\n",
    "    test_loss = 0\n",
    "    correct = 0\n",
    "    with torch.no_grad():\n",
    "        for data, target in test_loader:\n",
    "            data, target = data.to(device), target.to(device)\n",
    "            output = model(data)\n",
    "            test_loss += F.nll_loss(output, target,\n",
    "                reduction='sum').item()  # sum up batch loss\n",
    "            pred = output.argmax(dim=1, keepdim=True)\n",
    "            correct +=pred.eq(target.view_as(pred)).sum().item()\n",
    "            test_loss /= len(test_loader.dataset)\n",
    "        print('\\nTest set: Average loss: {:.4f}, Accuracy: {}/{} ({:.1f}%)\\n'.format(test_loss, correct,len(test_loader.dataset), 100. * correct /len(test_loader.dataset)))"
   ]
  },
  {
   "cell_type": "code",
   "execution_count": 10,
   "metadata": {},
   "outputs": [
    {
     "name": "stderr",
     "output_type": "stream",
     "text": [
      "  0%|          | 0/782 [00:00<?, ?it/s]C:\\Users\\maitr\\AppData\\Local\\Temp\\ipykernel_9832\\1026459373.py:49: UserWarning: Implicit dimension choice for log_softmax has been deprecated. Change the call to include dim=X as an argument.\n",
      "  return F.log_softmax(x)\n",
      "epoch: 1 loss=0.09143894910812378 batch_id=781: 100%|██████████| 782/782 [00:11<00:00, 65.51it/s]  \n"
     ]
    },
    {
     "name": "stdout",
     "output_type": "stream",
     "text": [
      "\n",
      "Test set: Average loss: 0.0001, Accuracy: 9773/10000 (97.7%)\n",
      "\n"
     ]
    },
    {
     "name": "stderr",
     "output_type": "stream",
     "text": [
      "epoch: 2 loss=0.11102701723575592 batch_id=781: 100%|██████████| 782/782 [00:11<00:00, 67.07it/s]   \n"
     ]
    },
    {
     "name": "stdout",
     "output_type": "stream",
     "text": [
      "\n",
      "Test set: Average loss: 0.0000, Accuracy: 9836/10000 (98.4%)\n",
      "\n"
     ]
    },
    {
     "name": "stderr",
     "output_type": "stream",
     "text": [
      "epoch: 3 loss=0.01735030673444271 batch_id=781: 100%|██████████| 782/782 [00:11<00:00, 66.31it/s]   \n"
     ]
    },
    {
     "name": "stdout",
     "output_type": "stream",
     "text": [
      "\n",
      "Test set: Average loss: 0.0001, Accuracy: 9879/10000 (98.8%)\n",
      "\n"
     ]
    },
    {
     "name": "stderr",
     "output_type": "stream",
     "text": [
      "epoch: 4 loss=0.005265339277684689 batch_id=781: 100%|██████████| 782/782 [00:11<00:00, 66.22it/s]  \n"
     ]
    },
    {
     "name": "stdout",
     "output_type": "stream",
     "text": [
      "\n",
      "Test set: Average loss: 0.0000, Accuracy: 9879/10000 (98.8%)\n",
      "\n"
     ]
    },
    {
     "name": "stderr",
     "output_type": "stream",
     "text": [
      "epoch: 5 loss=0.001410020631738007 batch_id=781: 100%|██████████| 782/782 [00:11<00:00, 65.43it/s]  \n"
     ]
    },
    {
     "name": "stdout",
     "output_type": "stream",
     "text": [
      "\n",
      "Test set: Average loss: 0.0000, Accuracy: 9896/10000 (99.0%)\n",
      "\n"
     ]
    },
    {
     "name": "stderr",
     "output_type": "stream",
     "text": [
      "epoch: 6 loss=0.0022829221561551094 batch_id=781: 100%|██████████| 782/782 [00:11<00:00, 65.49it/s] \n"
     ]
    },
    {
     "name": "stdout",
     "output_type": "stream",
     "text": [
      "\n",
      "Test set: Average loss: 0.0000, Accuracy: 9889/10000 (98.9%)\n",
      "\n"
     ]
    },
    {
     "name": "stderr",
     "output_type": "stream",
     "text": [
      "epoch: 7 loss=0.00318407011218369 batch_id=781: 100%|██████████| 782/782 [00:12<00:00, 64.42it/s]   \n"
     ]
    },
    {
     "name": "stdout",
     "output_type": "stream",
     "text": [
      "\n",
      "Test set: Average loss: 0.0000, Accuracy: 9884/10000 (98.8%)\n",
      "\n"
     ]
    },
    {
     "name": "stderr",
     "output_type": "stream",
     "text": [
      "epoch: 8 loss=0.00412887753918767 batch_id=781: 100%|██████████| 782/782 [00:12<00:00, 64.21it/s]   \n"
     ]
    },
    {
     "name": "stdout",
     "output_type": "stream",
     "text": [
      "\n",
      "Test set: Average loss: 0.0000, Accuracy: 9910/10000 (99.1%)\n",
      "\n"
     ]
    },
    {
     "name": "stderr",
     "output_type": "stream",
     "text": [
      "epoch: 9 loss=0.0008040930260904133 batch_id=781: 100%|██████████| 782/782 [00:12<00:00, 64.21it/s] \n"
     ]
    },
    {
     "name": "stdout",
     "output_type": "stream",
     "text": [
      "\n",
      "Test set: Average loss: 0.0000, Accuracy: 9909/10000 (99.1%)\n",
      "\n"
     ]
    },
    {
     "name": "stderr",
     "output_type": "stream",
     "text": [
      "epoch: 10 loss=0.001293974812142551 batch_id=781: 100%|██████████| 782/782 [00:12<00:00, 64.59it/s]  \n"
     ]
    },
    {
     "name": "stdout",
     "output_type": "stream",
     "text": [
      "\n",
      "Test set: Average loss: 0.0000, Accuracy: 9916/10000 (99.2%)\n",
      "\n"
     ]
    },
    {
     "name": "stderr",
     "output_type": "stream",
     "text": [
      "epoch: 11 loss=0.10802942514419556 batch_id=781: 100%|██████████| 782/782 [00:12<00:00, 64.56it/s]   \n"
     ]
    },
    {
     "name": "stdout",
     "output_type": "stream",
     "text": [
      "\n",
      "Test set: Average loss: 0.0000, Accuracy: 9924/10000 (99.2%)\n",
      "\n"
     ]
    },
    {
     "name": "stderr",
     "output_type": "stream",
     "text": [
      "epoch: 12 loss=0.0010451488196849823 batch_id=781: 100%|██████████| 782/782 [00:12<00:00, 64.22it/s]  \n"
     ]
    },
    {
     "name": "stdout",
     "output_type": "stream",
     "text": [
      "\n",
      "Test set: Average loss: 0.0000, Accuracy: 9916/10000 (99.2%)\n",
      "\n"
     ]
    },
    {
     "name": "stderr",
     "output_type": "stream",
     "text": [
      "epoch: 13 loss=0.004369339905679226 batch_id=781: 100%|██████████| 782/782 [00:12<00:00, 64.07it/s]   \n"
     ]
    },
    {
     "name": "stdout",
     "output_type": "stream",
     "text": [
      "\n",
      "Test set: Average loss: 0.0000, Accuracy: 9915/10000 (99.2%)\n",
      "\n"
     ]
    },
    {
     "name": "stderr",
     "output_type": "stream",
     "text": [
      "epoch: 14 loss=0.028632456436753273 batch_id=781: 100%|██████████| 782/782 [00:12<00:00, 63.93it/s]  \n"
     ]
    },
    {
     "name": "stdout",
     "output_type": "stream",
     "text": [
      "\n",
      "Test set: Average loss: 0.0000, Accuracy: 9922/10000 (99.2%)\n",
      "\n"
     ]
    },
    {
     "name": "stderr",
     "output_type": "stream",
     "text": [
      "epoch: 15 loss=0.030563028529286385 batch_id=781: 100%|██████████| 782/782 [00:12<00:00, 63.92it/s]   \n"
     ]
    },
    {
     "name": "stdout",
     "output_type": "stream",
     "text": [
      "\n",
      "Test set: Average loss: 0.0002, Accuracy: 9912/10000 (99.1%)\n",
      "\n"
     ]
    },
    {
     "name": "stderr",
     "output_type": "stream",
     "text": [
      "epoch: 16 loss=0.004989263601601124 batch_id=781: 100%|██████████| 782/782 [00:12<00:00, 64.15it/s]   \n"
     ]
    },
    {
     "name": "stdout",
     "output_type": "stream",
     "text": [
      "\n",
      "Test set: Average loss: 0.0000, Accuracy: 9909/10000 (99.1%)\n",
      "\n"
     ]
    },
    {
     "name": "stderr",
     "output_type": "stream",
     "text": [
      "epoch: 17 loss=0.00495445542037487 batch_id=781: 100%|██████████| 782/782 [00:12<00:00, 63.46it/s]    \n"
     ]
    },
    {
     "name": "stdout",
     "output_type": "stream",
     "text": [
      "\n",
      "Test set: Average loss: 0.0000, Accuracy: 9924/10000 (99.2%)\n",
      "\n"
     ]
    },
    {
     "name": "stderr",
     "output_type": "stream",
     "text": [
      "epoch: 18 loss=0.0018961868481710553 batch_id=781: 100%|██████████| 782/782 [00:12<00:00, 63.88it/s]  \n"
     ]
    },
    {
     "name": "stdout",
     "output_type": "stream",
     "text": [
      "\n",
      "Test set: Average loss: 0.0000, Accuracy: 9922/10000 (99.2%)\n",
      "\n"
     ]
    },
    {
     "name": "stderr",
     "output_type": "stream",
     "text": [
      "epoch: 19 loss=0.0001893716398626566 batch_id=781: 100%|██████████| 782/782 [00:12<00:00, 64.01it/s]  \n"
     ]
    },
    {
     "name": "stdout",
     "output_type": "stream",
     "text": [
      "\n",
      "Test set: Average loss: 0.0000, Accuracy: 9919/10000 (99.2%)\n",
      "\n"
     ]
    }
   ],
   "source": [
    "model = MNet().to(device)\n",
    "optimizer = torch.optim.SGD(model.parameters(), lr=0.035, momentum=0.9)\n",
    "for epoch in range(1, 20):\n",
    "    train(model, device, train_loader, optimizer, epoch)\n",
    "    test(model, device, val_loader)"
   ]
  },
  {
   "attachments": {},
   "cell_type": "markdown",
   "metadata": {},
   "source": []
  }
 ],
 "metadata": {
  "kernelspec": {
   "display_name": "era",
   "language": "python",
   "name": "python3"
  },
  "language_info": {
   "codemirror_mode": {
    "name": "ipython",
    "version": 3
   },
   "file_extension": ".py",
   "mimetype": "text/x-python",
   "name": "python",
   "nbconvert_exporter": "python",
   "pygments_lexer": "ipython3",
   "version": "3.11.3"
  },
  "orig_nbformat": 4
 },
 "nbformat": 4,
 "nbformat_minor": 2
}
